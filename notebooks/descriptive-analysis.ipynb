{
 "cells": [
  {
   "cell_type": "markdown",
   "metadata": {},
   "source": [
    "# Principal Component Analysis (PCA)\n",
    "## Technique for reducing the number of dimensions in the data\n",
    "Data set begins with 60 dimensions"
   ]
  },
  {
   "cell_type": "code",
   "execution_count": 88,
   "metadata": {},
   "outputs": [],
   "source": [
    "import matplotlib.pyplot as plt\n",
    "import numpy as np\n",
    "import pandas as pd\n",
    "%matplotlib inline"
   ]
  },
  {
   "cell_type": "code",
   "execution_count": 89,
   "metadata": {},
   "outputs": [
    {
     "data": {
      "text/html": [
       "<div>\n",
       "<style scoped>\n",
       "    .dataframe tbody tr th:only-of-type {\n",
       "        vertical-align: middle;\n",
       "    }\n",
       "\n",
       "    .dataframe tbody tr th {\n",
       "        vertical-align: top;\n",
       "    }\n",
       "\n",
       "    .dataframe thead th {\n",
       "        text-align: right;\n",
       "    }\n",
       "</style>\n",
       "<table border=\"1\" class=\"dataframe\">\n",
       "  <thead>\n",
       "    <tr style=\"text-align: right;\">\n",
       "      <th></th>\n",
       "      <th>Respondent</th>\n",
       "      <th>MainBranch</th>\n",
       "      <th>Hobbyist</th>\n",
       "      <th>Age</th>\n",
       "      <th>Age1stCode</th>\n",
       "      <th>CompFreq</th>\n",
       "      <th>CompTotal</th>\n",
       "      <th>ConvertedComp</th>\n",
       "      <th>Country</th>\n",
       "      <th>CurrencyDesc</th>\n",
       "      <th>...</th>\n",
       "      <th>SurveyEase</th>\n",
       "      <th>SurveyLength</th>\n",
       "      <th>Trans</th>\n",
       "      <th>UndergradMajor</th>\n",
       "      <th>WebframeDesireNextYear</th>\n",
       "      <th>WebframeWorkedWith</th>\n",
       "      <th>WelcomeChange</th>\n",
       "      <th>WorkWeekHrs</th>\n",
       "      <th>YearsCode</th>\n",
       "      <th>YearsCodePro</th>\n",
       "    </tr>\n",
       "  </thead>\n",
       "  <tbody>\n",
       "    <tr>\n",
       "      <th>4</th>\n",
       "      <td>1094</td>\n",
       "      <td>I am not primarily a developer, but I write co...</td>\n",
       "      <td>Yes</td>\n",
       "      <td>26.0</td>\n",
       "      <td>18</td>\n",
       "      <td>Yearly</td>\n",
       "      <td>NaN</td>\n",
       "      <td>NaN</td>\n",
       "      <td>United States</td>\n",
       "      <td>United States dollar</td>\n",
       "      <td>...</td>\n",
       "      <td>Easy</td>\n",
       "      <td>Appropriate in length</td>\n",
       "      <td>No</td>\n",
       "      <td>A business discipline (such as accounting, fin...</td>\n",
       "      <td>NaN</td>\n",
       "      <td>NaN</td>\n",
       "      <td>Somewhat more welcome now than last year</td>\n",
       "      <td>70.0</td>\n",
       "      <td>1</td>\n",
       "      <td>Less than 1 year</td>\n",
       "    </tr>\n",
       "    <tr>\n",
       "      <th>7</th>\n",
       "      <td>1245</td>\n",
       "      <td>I am a student who is learning to code</td>\n",
       "      <td>Yes</td>\n",
       "      <td>26.0</td>\n",
       "      <td>25</td>\n",
       "      <td>NaN</td>\n",
       "      <td>NaN</td>\n",
       "      <td>NaN</td>\n",
       "      <td>United States</td>\n",
       "      <td>NaN</td>\n",
       "      <td>...</td>\n",
       "      <td>Easy</td>\n",
       "      <td>Appropriate in length</td>\n",
       "      <td>No</td>\n",
       "      <td>A humanities discipline (such as literature, h...</td>\n",
       "      <td>React.js</td>\n",
       "      <td>Angular.js;jQuery;React.js;Spring</td>\n",
       "      <td>Just as welcome now as I felt last year</td>\n",
       "      <td>NaN</td>\n",
       "      <td>1</td>\n",
       "      <td>Less than 1 year</td>\n",
       "    </tr>\n",
       "    <tr>\n",
       "      <th>9</th>\n",
       "      <td>1578</td>\n",
       "      <td>I am a student who is learning to code</td>\n",
       "      <td>No</td>\n",
       "      <td>NaN</td>\n",
       "      <td>23</td>\n",
       "      <td>NaN</td>\n",
       "      <td>NaN</td>\n",
       "      <td>NaN</td>\n",
       "      <td>United States</td>\n",
       "      <td>NaN</td>\n",
       "      <td>...</td>\n",
       "      <td>Easy</td>\n",
       "      <td>NaN</td>\n",
       "      <td>NaN</td>\n",
       "      <td>NaN</td>\n",
       "      <td>NaN</td>\n",
       "      <td>NaN</td>\n",
       "      <td>Just as welcome now as I felt last year</td>\n",
       "      <td>NaN</td>\n",
       "      <td>1</td>\n",
       "      <td>Less than 1 year</td>\n",
       "    </tr>\n",
       "    <tr>\n",
       "      <th>11</th>\n",
       "      <td>2603</td>\n",
       "      <td>I am a student who is learning to code</td>\n",
       "      <td>No</td>\n",
       "      <td>53.0</td>\n",
       "      <td>26</td>\n",
       "      <td>NaN</td>\n",
       "      <td>NaN</td>\n",
       "      <td>NaN</td>\n",
       "      <td>United States</td>\n",
       "      <td>NaN</td>\n",
       "      <td>...</td>\n",
       "      <td>Easy</td>\n",
       "      <td>Appropriate in length</td>\n",
       "      <td>No</td>\n",
       "      <td>Another engineering discipline (such as civil,...</td>\n",
       "      <td>ASP.NET;ASP.NET Core;Django;Express;Gatsby;Rea...</td>\n",
       "      <td>Django;Express;Gatsby;React.js</td>\n",
       "      <td>Just as welcome now as I felt last year</td>\n",
       "      <td>NaN</td>\n",
       "      <td>1</td>\n",
       "      <td>Less than 1 year</td>\n",
       "    </tr>\n",
       "    <tr>\n",
       "      <th>12</th>\n",
       "      <td>2705</td>\n",
       "      <td>I am a student who is learning to code</td>\n",
       "      <td>Yes</td>\n",
       "      <td>NaN</td>\n",
       "      <td>40</td>\n",
       "      <td>NaN</td>\n",
       "      <td>NaN</td>\n",
       "      <td>NaN</td>\n",
       "      <td>United States</td>\n",
       "      <td>NaN</td>\n",
       "      <td>...</td>\n",
       "      <td>Easy</td>\n",
       "      <td>Appropriate in length</td>\n",
       "      <td>NaN</td>\n",
       "      <td>A business discipline (such as accounting, fin...</td>\n",
       "      <td>NaN</td>\n",
       "      <td>NaN</td>\n",
       "      <td>Just as welcome now as I felt last year</td>\n",
       "      <td>NaN</td>\n",
       "      <td>1</td>\n",
       "      <td>Less than 1 year</td>\n",
       "    </tr>\n",
       "    <tr>\n",
       "      <th>...</th>\n",
       "      <td>...</td>\n",
       "      <td>...</td>\n",
       "      <td>...</td>\n",
       "      <td>...</td>\n",
       "      <td>...</td>\n",
       "      <td>...</td>\n",
       "      <td>...</td>\n",
       "      <td>...</td>\n",
       "      <td>...</td>\n",
       "      <td>...</td>\n",
       "      <td>...</td>\n",
       "      <td>...</td>\n",
       "      <td>...</td>\n",
       "      <td>...</td>\n",
       "      <td>...</td>\n",
       "      <td>...</td>\n",
       "      <td>...</td>\n",
       "      <td>...</td>\n",
       "      <td>...</td>\n",
       "      <td>...</td>\n",
       "      <td>...</td>\n",
       "    </tr>\n",
       "    <tr>\n",
       "      <th>60557</th>\n",
       "      <td>47887</td>\n",
       "      <td>I am a developer by profession</td>\n",
       "      <td>Yes</td>\n",
       "      <td>31.0</td>\n",
       "      <td>13</td>\n",
       "      <td>Yearly</td>\n",
       "      <td>82000.0</td>\n",
       "      <td>82000.0</td>\n",
       "      <td>United States</td>\n",
       "      <td>United States dollar</td>\n",
       "      <td>...</td>\n",
       "      <td>Easy</td>\n",
       "      <td>Appropriate in length</td>\n",
       "      <td>No</td>\n",
       "      <td>Information systems, information technology, o...</td>\n",
       "      <td>Express;Flask;Vue.js</td>\n",
       "      <td>Vue.js</td>\n",
       "      <td>Somewhat less welcome now than last year</td>\n",
       "      <td>40.0</td>\n",
       "      <td>5</td>\n",
       "      <td>3</td>\n",
       "    </tr>\n",
       "    <tr>\n",
       "      <th>60705</th>\n",
       "      <td>17030</td>\n",
       "      <td>I am a developer by profession</td>\n",
       "      <td>No</td>\n",
       "      <td>32.0</td>\n",
       "      <td>NaN</td>\n",
       "      <td>Yearly</td>\n",
       "      <td>80000.0</td>\n",
       "      <td>80000.0</td>\n",
       "      <td>United States</td>\n",
       "      <td>United States dollar</td>\n",
       "      <td>...</td>\n",
       "      <td>Easy</td>\n",
       "      <td>Too long</td>\n",
       "      <td>No</td>\n",
       "      <td>A social science (such as anthropology, psycho...</td>\n",
       "      <td>NaN</td>\n",
       "      <td>Spring</td>\n",
       "      <td>Just as welcome now as I felt last year</td>\n",
       "      <td>40.0</td>\n",
       "      <td>9</td>\n",
       "      <td>7</td>\n",
       "    </tr>\n",
       "    <tr>\n",
       "      <th>60706</th>\n",
       "      <td>59280</td>\n",
       "      <td>I am a developer by profession</td>\n",
       "      <td>Yes</td>\n",
       "      <td>35.0</td>\n",
       "      <td>8</td>\n",
       "      <td>Yearly</td>\n",
       "      <td>78000.0</td>\n",
       "      <td>78000.0</td>\n",
       "      <td>United States</td>\n",
       "      <td>United States dollar</td>\n",
       "      <td>...</td>\n",
       "      <td>Neither easy nor difficult</td>\n",
       "      <td>Appropriate in length</td>\n",
       "      <td>No</td>\n",
       "      <td>A natural science (such as biology, chemistry,...</td>\n",
       "      <td>Angular</td>\n",
       "      <td>Angular</td>\n",
       "      <td>Somewhat more welcome now than last year</td>\n",
       "      <td>39.0</td>\n",
       "      <td>3</td>\n",
       "      <td>Less than 1 year</td>\n",
       "    </tr>\n",
       "    <tr>\n",
       "      <th>60707</th>\n",
       "      <td>30555</td>\n",
       "      <td>I am a developer by profession</td>\n",
       "      <td>No</td>\n",
       "      <td>38.0</td>\n",
       "      <td>16</td>\n",
       "      <td>Yearly</td>\n",
       "      <td>75000.0</td>\n",
       "      <td>75000.0</td>\n",
       "      <td>United States</td>\n",
       "      <td>United States dollar</td>\n",
       "      <td>...</td>\n",
       "      <td>Easy</td>\n",
       "      <td>Appropriate in length</td>\n",
       "      <td>No</td>\n",
       "      <td>I never declared a major</td>\n",
       "      <td>React.js;Vue.js</td>\n",
       "      <td>jQuery</td>\n",
       "      <td>Just as welcome now as I felt last year</td>\n",
       "      <td>30.0</td>\n",
       "      <td>22</td>\n",
       "      <td>20</td>\n",
       "    </tr>\n",
       "    <tr>\n",
       "      <th>60708</th>\n",
       "      <td>24961</td>\n",
       "      <td>I am a developer by profession</td>\n",
       "      <td>Yes</td>\n",
       "      <td>31.0</td>\n",
       "      <td>16</td>\n",
       "      <td>Yearly</td>\n",
       "      <td>54532.0</td>\n",
       "      <td>54532.0</td>\n",
       "      <td>United States</td>\n",
       "      <td>United States dollar</td>\n",
       "      <td>...</td>\n",
       "      <td>Easy</td>\n",
       "      <td>Appropriate in length</td>\n",
       "      <td>No</td>\n",
       "      <td>Information systems, information technology, o...</td>\n",
       "      <td>Angular;Angular.js;ASP.NET Core;Express;jQuery...</td>\n",
       "      <td>NaN</td>\n",
       "      <td>Just as welcome now as I felt last year</td>\n",
       "      <td>40.0</td>\n",
       "      <td>5</td>\n",
       "      <td>3</td>\n",
       "    </tr>\n",
       "  </tbody>\n",
       "</table>\n",
       "<p>12469 rows × 61 columns</p>\n",
       "</div>"
      ],
      "text/plain": [
       "       Respondent                                         MainBranch Hobbyist  \\\n",
       "4            1094  I am not primarily a developer, but I write co...      Yes   \n",
       "7            1245             I am a student who is learning to code      Yes   \n",
       "9            1578             I am a student who is learning to code       No   \n",
       "11           2603             I am a student who is learning to code       No   \n",
       "12           2705             I am a student who is learning to code      Yes   \n",
       "...           ...                                                ...      ...   \n",
       "60557       47887                     I am a developer by profession      Yes   \n",
       "60705       17030                     I am a developer by profession       No   \n",
       "60706       59280                     I am a developer by profession      Yes   \n",
       "60707       30555                     I am a developer by profession       No   \n",
       "60708       24961                     I am a developer by profession      Yes   \n",
       "\n",
       "        Age Age1stCode CompFreq  CompTotal  ConvertedComp        Country  \\\n",
       "4      26.0         18   Yearly        NaN            NaN  United States   \n",
       "7      26.0         25      NaN        NaN            NaN  United States   \n",
       "9       NaN         23      NaN        NaN            NaN  United States   \n",
       "11     53.0         26      NaN        NaN            NaN  United States   \n",
       "12      NaN         40      NaN        NaN            NaN  United States   \n",
       "...     ...        ...      ...        ...            ...            ...   \n",
       "60557  31.0         13   Yearly    82000.0        82000.0  United States   \n",
       "60705  32.0        NaN   Yearly    80000.0        80000.0  United States   \n",
       "60706  35.0          8   Yearly    78000.0        78000.0  United States   \n",
       "60707  38.0         16   Yearly    75000.0        75000.0  United States   \n",
       "60708  31.0         16   Yearly    54532.0        54532.0  United States   \n",
       "\n",
       "               CurrencyDesc  ...                  SurveyEase  \\\n",
       "4      United States dollar  ...                        Easy   \n",
       "7                       NaN  ...                        Easy   \n",
       "9                       NaN  ...                        Easy   \n",
       "11                      NaN  ...                        Easy   \n",
       "12                      NaN  ...                        Easy   \n",
       "...                     ...  ...                         ...   \n",
       "60557  United States dollar  ...                        Easy   \n",
       "60705  United States dollar  ...                        Easy   \n",
       "60706  United States dollar  ...  Neither easy nor difficult   \n",
       "60707  United States dollar  ...                        Easy   \n",
       "60708  United States dollar  ...                        Easy   \n",
       "\n",
       "                SurveyLength Trans  \\\n",
       "4      Appropriate in length    No   \n",
       "7      Appropriate in length    No   \n",
       "9                        NaN   NaN   \n",
       "11     Appropriate in length    No   \n",
       "12     Appropriate in length   NaN   \n",
       "...                      ...   ...   \n",
       "60557  Appropriate in length    No   \n",
       "60705               Too long    No   \n",
       "60706  Appropriate in length    No   \n",
       "60707  Appropriate in length    No   \n",
       "60708  Appropriate in length    No   \n",
       "\n",
       "                                          UndergradMajor  \\\n",
       "4      A business discipline (such as accounting, fin...   \n",
       "7      A humanities discipline (such as literature, h...   \n",
       "9                                                    NaN   \n",
       "11     Another engineering discipline (such as civil,...   \n",
       "12     A business discipline (such as accounting, fin...   \n",
       "...                                                  ...   \n",
       "60557  Information systems, information technology, o...   \n",
       "60705  A social science (such as anthropology, psycho...   \n",
       "60706  A natural science (such as biology, chemistry,...   \n",
       "60707                           I never declared a major   \n",
       "60708  Information systems, information technology, o...   \n",
       "\n",
       "                                  WebframeDesireNextYear  \\\n",
       "4                                                    NaN   \n",
       "7                                               React.js   \n",
       "9                                                    NaN   \n",
       "11     ASP.NET;ASP.NET Core;Django;Express;Gatsby;Rea...   \n",
       "12                                                   NaN   \n",
       "...                                                  ...   \n",
       "60557                               Express;Flask;Vue.js   \n",
       "60705                                                NaN   \n",
       "60706                                            Angular   \n",
       "60707                                    React.js;Vue.js   \n",
       "60708  Angular;Angular.js;ASP.NET Core;Express;jQuery...   \n",
       "\n",
       "                      WebframeWorkedWith  \\\n",
       "4                                    NaN   \n",
       "7      Angular.js;jQuery;React.js;Spring   \n",
       "9                                    NaN   \n",
       "11        Django;Express;Gatsby;React.js   \n",
       "12                                   NaN   \n",
       "...                                  ...   \n",
       "60557                             Vue.js   \n",
       "60705                             Spring   \n",
       "60706                            Angular   \n",
       "60707                             jQuery   \n",
       "60708                                NaN   \n",
       "\n",
       "                                  WelcomeChange WorkWeekHrs YearsCode  \\\n",
       "4      Somewhat more welcome now than last year        70.0         1   \n",
       "7       Just as welcome now as I felt last year         NaN         1   \n",
       "9       Just as welcome now as I felt last year         NaN         1   \n",
       "11      Just as welcome now as I felt last year         NaN         1   \n",
       "12      Just as welcome now as I felt last year         NaN         1   \n",
       "...                                         ...         ...       ...   \n",
       "60557  Somewhat less welcome now than last year        40.0         5   \n",
       "60705   Just as welcome now as I felt last year        40.0         9   \n",
       "60706  Somewhat more welcome now than last year        39.0         3   \n",
       "60707   Just as welcome now as I felt last year        30.0        22   \n",
       "60708   Just as welcome now as I felt last year        40.0         5   \n",
       "\n",
       "           YearsCodePro  \n",
       "4      Less than 1 year  \n",
       "7      Less than 1 year  \n",
       "9      Less than 1 year  \n",
       "11     Less than 1 year  \n",
       "12     Less than 1 year  \n",
       "...                 ...  \n",
       "60557                 3  \n",
       "60705                 7  \n",
       "60706  Less than 1 year  \n",
       "60707                20  \n",
       "60708                 3  \n",
       "\n",
       "[12469 rows x 61 columns]"
      ]
     },
     "execution_count": 89,
     "metadata": {},
     "output_type": "execute_result"
    }
   ],
   "source": [
    "# Read the data using pandas and make a copy\n",
    "df = pd.read_csv('../datasets/full/2020/survey_results_public.csv', na_values='?', comment = '\\t', sep=',', skipinitialspace=True)\n",
    "\n",
    "data = df.copy()\n",
    "\n",
    "data = data[data.Country == 'United States']\n",
    "\n",
    "data"
   ]
  },
  {
   "cell_type": "code",
   "execution_count": 90,
   "metadata": {},
   "outputs": [],
   "source": [
    "data.drop(['Respondent', 'MainBranch', 'Hobbyist', 'CompFreq', 'CompTotal' , 'Country', 'CurrencyDesc', 'CurrencySymbol', 'DatabaseDesireNextYear', 'DatabaseWorkedWith', 'DevType', 'EdLevel', 'Employment', 'Ethnicity', 'Gender', 'JobFactors', 'JobSat', 'JobSeek', 'LanguageDesireNextYear', 'LanguageWorkedWith', 'MiscTechDesireNextYear', 'MiscTechWorkedWith', 'NEWCollabToolsDesireNextYear', 'NEWCollabToolsWorkedWith', 'NEWDevOps', 'NEWDevOpsImpt', 'NEWEdImpt', 'NEWJobHunt', 'NEWJobHuntResearch', 'NEWLearn', 'NEWOffTopic', 'NEWOnboardGood', 'NEWOtherComms', 'NEWOvertime', 'NEWPurchaseResearch', 'NEWPurpleLink', 'NEWSOSites', 'NEWStuck', 'OpSys', 'OrgSize', 'PlatformDesireNextYear', 'PlatformWorkedWith', 'PurchaseWhat', 'Sexuality', 'SOAccount', 'SOComm', 'SOPartFreq', 'SOVisitFreq', 'SurveyEase', 'SurveyLength', 'Trans', 'UndergradMajor', 'WebframeDesireNextYear', 'WebframeWorkedWith', 'WelcomeChange'], axis=1, inplace=True)"
   ]
  },
  {
   "cell_type": "code",
   "execution_count": 91,
   "metadata": {},
   "outputs": [
    {
     "data": {
      "text/plain": [
       "Index(['Age', 'Age1stCode', 'ConvertedComp', 'WorkWeekHrs', 'YearsCode',\n",
       "       'YearsCodePro'],\n",
       "      dtype='object')"
      ]
     },
     "execution_count": 91,
     "metadata": {},
     "output_type": "execute_result"
    }
   ],
   "source": [
    "data.keys()"
   ]
  },
  {
   "cell_type": "code",
   "execution_count": 92,
   "metadata": {},
   "outputs": [],
   "source": [
    "data['Age1stCode'] = data['Age1stCode'].replace(['Less than 1 year', 'Younger than 5 years', 'Older than 85'], ['0', '4', '86'])"
   ]
  },
  {
   "cell_type": "code",
   "execution_count": 93,
   "metadata": {},
   "outputs": [],
   "source": [
    "data['YearsCode'] = data['YearsCode'].replace(['less than 1 year', 'Less than 1 year', 'More than 50 years'], ['0', '0', '51'])"
   ]
  },
  {
   "cell_type": "code",
   "execution_count": 94,
   "metadata": {},
   "outputs": [],
   "source": [
    "data['YearsCodePro'] = data['YearsCodePro'].replace(['less than 1 year', 'Less than 1 year', 'More than 50 years'], ['0', '0', '51'])"
   ]
  },
  {
   "cell_type": "code",
   "execution_count": 95,
   "metadata": {},
   "outputs": [
    {
     "data": {
      "text/plain": [
       "Age              0\n",
       "Age1stCode       0\n",
       "ConvertedComp    0\n",
       "WorkWeekHrs      0\n",
       "YearsCode        0\n",
       "YearsCodePro     0\n",
       "dtype: int64"
      ]
     },
     "execution_count": 95,
     "metadata": {},
     "output_type": "execute_result"
    }
   ],
   "source": [
    "data.dropna(subset=['ConvertedComp', 'YearsCodePro', 'Age','WorkWeekHrs', 'Age1stCode'], inplace=True)\n",
    "data.isnull().sum()"
   ]
  },
  {
   "cell_type": "code",
   "execution_count": 96,
   "metadata": {},
   "outputs": [],
   "source": [
    "from sklearn.preprocessing import StandardScaler"
   ]
  },
  {
   "cell_type": "code",
   "execution_count": 97,
   "metadata": {},
   "outputs": [
    {
     "data": {
      "text/plain": [
       "StandardScaler()"
      ]
     },
     "execution_count": 97,
     "metadata": {},
     "output_type": "execute_result"
    }
   ],
   "source": [
    "scaler = StandardScaler()\n",
    "scaler.fit(data)"
   ]
  },
  {
   "cell_type": "code",
   "execution_count": 98,
   "metadata": {},
   "outputs": [],
   "source": [
    "scaled_data = scaler.transform(data)"
   ]
  },
  {
   "cell_type": "code",
   "execution_count": 99,
   "metadata": {},
   "outputs": [
    {
     "data": {
      "text/plain": [
       "array([[-0.04349361,  3.38169559, -0.29357801, -0.22170069, -1.41437902,\n",
       "        -1.11442496],\n",
       "       [ 1.27408095,  3.0105807 , -0.51611319, -0.22170069, -1.41437902,\n",
       "        -1.11442496],\n",
       "       [-0.04349361,  3.19613815, -0.5468077 ,  1.05494387, -1.41437902,\n",
       "        -1.11442496],\n",
       "       ...,\n",
       "       [ 0.05785828, -1.25724054, -0.69260662, -0.34936515, -1.23039246,\n",
       "        -1.11442496],\n",
       "       [ 0.36191395,  0.22721902, -0.73864838, -1.49834525,  0.51747989,\n",
       "         1.07059025],\n",
       "       [-0.34754927,  0.22721902, -1.05277598, -0.22170069, -1.04640589,\n",
       "        -0.78667268]])"
      ]
     },
     "execution_count": 99,
     "metadata": {},
     "output_type": "execute_result"
    }
   ],
   "source": [
    "scaled_data"
   ]
  },
  {
   "cell_type": "code",
   "execution_count": 100,
   "metadata": {},
   "outputs": [],
   "source": [
    "from sklearn.decomposition import PCA"
   ]
  },
  {
   "cell_type": "code",
   "execution_count": 133,
   "metadata": {},
   "outputs": [],
   "source": [
    "pca = PCA(n_components=3)"
   ]
  },
  {
   "cell_type": "code",
   "execution_count": 134,
   "metadata": {},
   "outputs": [
    {
     "data": {
      "text/plain": [
       "PCA(n_components=3)"
      ]
     },
     "execution_count": 134,
     "metadata": {},
     "output_type": "execute_result"
    }
   ],
   "source": [
    "pca.fit(scaled_data)"
   ]
  },
  {
   "cell_type": "code",
   "execution_count": 135,
   "metadata": {},
   "outputs": [],
   "source": [
    "x_pca = pca.transform(scaled_data)"
   ]
  },
  {
   "cell_type": "code",
   "execution_count": 136,
   "metadata": {},
   "outputs": [
    {
     "data": {
      "text/plain": [
       "(7153, 6)"
      ]
     },
     "execution_count": 136,
     "metadata": {},
     "output_type": "execute_result"
    }
   ],
   "source": [
    "scaled_data.shape"
   ]
  },
  {
   "cell_type": "code",
   "execution_count": 137,
   "metadata": {},
   "outputs": [
    {
     "data": {
      "text/plain": [
       "(7153, 3)"
      ]
     },
     "execution_count": 137,
     "metadata": {},
     "output_type": "execute_result"
    }
   ],
   "source": [
    "x_pca.shape"
   ]
  },
  {
   "cell_type": "code",
   "execution_count": 138,
   "metadata": {},
   "outputs": [
    {
     "data": {
      "text/plain": [
       "array([[-2.07311557,  2.49431566,  1.71384779],\n",
       "       [-1.40193556,  2.77131634,  1.56972569],\n",
       "       [-1.97992083,  1.98908083,  2.61253438],\n",
       "       ...,\n",
       "       [-1.30644233, -0.70783412, -0.82861182],\n",
       "       [ 0.64265586,  1.32657631, -1.37408247],\n",
       "       [-1.56469489,  0.40734337, -0.12564721]])"
      ]
     },
     "execution_count": 138,
     "metadata": {},
     "output_type": "execute_result"
    }
   ],
   "source": [
    "x_pca"
   ]
  },
  {
   "cell_type": "code",
   "execution_count": 139,
   "metadata": {},
   "outputs": [
    {
     "data": {
      "text/plain": [
       "Text(0.5, 1.0, 'Dimensionality Reduction: 60 to 3')"
      ]
     },
     "execution_count": 139,
     "metadata": {},
     "output_type": "execute_result"
    },
    {
     "data": {
      "image/png": "[encoded data removed]",
      "text/plain": [
       "<Figure size 432x288 with 1 Axes>"
      ]
     },
     "metadata": {
      "needs_background": "light"
     },
     "output_type": "display_data"
    }
   ],
   "source": [
    "plt.figure()\n",
    "plt.scatter(x_pca[:,0], x_pca[:,1], c = data['ConvertedComp'])\n",
    "plt.xlabel('First principal component')\n",
    "plt.ylabel('Second principal component')\n",
    "plt.title('Dimensionality Reduction: 60 to 3')"
   ]
  },
  {
   "cell_type": "code",
   "execution_count": null,
   "metadata": {},
   "outputs": [],
   "source": []
  }
 ],
 "metadata": {
  "kernelspec": {
   "display_name": "Python 3",
   "language": "python",
   "name": "python3"
  },
  "language_info": {
   "codemirror_mode": {
    "name": "ipython",
    "version": 3
   },
   "file_extension": ".py",
   "mimetype": "text/x-python",
   "name": "python",
   "nbconvert_exporter": "python",
   "pygments_lexer": "ipython3",
   "version": "3.8.5"
  }
 },
 "nbformat": 4,
 "nbformat_minor": 4
}
