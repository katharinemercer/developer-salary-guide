{
 "cells": [
  {
   "cell_type": "code",
   "execution_count": 217,
   "metadata": {},
   "outputs": [],
   "source": [
    "import numpy as np\n",
    "import pandas as pd\n",
    "import matplotlib.pyplot as plt\n",
    "import seaborn as sns\n",
    "from sklearn.model_selection import train_test_split\n",
    "\n",
    "import warnings\n",
    "warnings.filterwarnings('ignore')"
   ]
  },
  {
   "cell_type": "code",
   "execution_count": 218,
   "metadata": {},
   "outputs": [],
   "source": [
    "# Read the data using pandas and make a copy\n",
    "df = pd.read_csv('../datasets/views/2020/data-us-2020.csv', na_values='?', comment = '\\t', sep=',', skipinitialspace=True)\n",
    "\n",
    "data = df.copy()\n",
    "\n",
    "# Dropping Country column as it is all US data in this file\n",
    "data.drop(['Country'], axis=1, inplace=True)"
   ]
  },
  {
   "cell_type": "code",
   "execution_count": 219,
   "metadata": {},
   "outputs": [
    {
     "data": {
      "text/html": [
       "<div>\n",
       "<style scoped>\n",
       "    .dataframe tbody tr th:only-of-type {\n",
       "        vertical-align: middle;\n",
       "    }\n",
       "\n",
       "    .dataframe tbody tr th {\n",
       "        vertical-align: top;\n",
       "    }\n",
       "\n",
       "    .dataframe thead th {\n",
       "        text-align: right;\n",
       "    }\n",
       "</style>\n",
       "<table border=\"1\" class=\"dataframe\">\n",
       "  <thead>\n",
       "    <tr style=\"text-align: right;\">\n",
       "      <th></th>\n",
       "      <th>ConvertedComp</th>\n",
       "      <th>EdLevel</th>\n",
       "      <th>YearsCode</th>\n",
       "      <th>YearsCodePro</th>\n",
       "    </tr>\n",
       "  </thead>\n",
       "  <tbody>\n",
       "    <tr>\n",
       "      <th>5428</th>\n",
       "      <td>237000.0</td>\n",
       "      <td>5</td>\n",
       "      <td>20</td>\n",
       "      <td>13</td>\n",
       "    </tr>\n",
       "    <tr>\n",
       "      <th>3462</th>\n",
       "      <td>55000.0</td>\n",
       "      <td>5</td>\n",
       "      <td>11</td>\n",
       "      <td>8</td>\n",
       "    </tr>\n",
       "    <tr>\n",
       "      <th>7663</th>\n",
       "      <td>250000.0</td>\n",
       "      <td>5</td>\n",
       "      <td>38</td>\n",
       "      <td>32</td>\n",
       "    </tr>\n",
       "    <tr>\n",
       "      <th>3841</th>\n",
       "      <td>240000.0</td>\n",
       "      <td>5</td>\n",
       "      <td>13</td>\n",
       "      <td>7</td>\n",
       "    </tr>\n",
       "    <tr>\n",
       "      <th>5358</th>\n",
       "      <td>95000.0</td>\n",
       "      <td>5</td>\n",
       "      <td>19</td>\n",
       "      <td>4</td>\n",
       "    </tr>\n",
       "    <tr>\n",
       "      <th>8189</th>\n",
       "      <td>50000.0</td>\n",
       "      <td>5</td>\n",
       "      <td>0</td>\n",
       "      <td>0</td>\n",
       "    </tr>\n",
       "    <tr>\n",
       "      <th>5388</th>\n",
       "      <td>600000.0</td>\n",
       "      <td>5</td>\n",
       "      <td>20</td>\n",
       "      <td>16</td>\n",
       "    </tr>\n",
       "    <tr>\n",
       "      <th>7587</th>\n",
       "      <td>60000.0</td>\n",
       "      <td>5</td>\n",
       "      <td>36</td>\n",
       "      <td>3</td>\n",
       "    </tr>\n",
       "    <tr>\n",
       "      <th>728</th>\n",
       "      <td>120000.0</td>\n",
       "      <td>5</td>\n",
       "      <td>5</td>\n",
       "      <td>3</td>\n",
       "    </tr>\n",
       "    <tr>\n",
       "      <th>2014</th>\n",
       "      <td>113000.0</td>\n",
       "      <td>6</td>\n",
       "      <td>8</td>\n",
       "      <td>5</td>\n",
       "    </tr>\n",
       "    <tr>\n",
       "      <th>3899</th>\n",
       "      <td>129000.0</td>\n",
       "      <td>6</td>\n",
       "      <td>13</td>\n",
       "      <td>3</td>\n",
       "    </tr>\n",
       "    <tr>\n",
       "      <th>6355</th>\n",
       "      <td>143000.0</td>\n",
       "      <td>5</td>\n",
       "      <td>24</td>\n",
       "      <td>24</td>\n",
       "    </tr>\n",
       "    <tr>\n",
       "      <th>1475</th>\n",
       "      <td>315000.0</td>\n",
       "      <td>6</td>\n",
       "      <td>7</td>\n",
       "      <td>4</td>\n",
       "    </tr>\n",
       "    <tr>\n",
       "      <th>5204</th>\n",
       "      <td>100000.0</td>\n",
       "      <td>5</td>\n",
       "      <td>18</td>\n",
       "      <td>9</td>\n",
       "    </tr>\n",
       "    <tr>\n",
       "      <th>2572</th>\n",
       "      <td>46000.0</td>\n",
       "      <td>8</td>\n",
       "      <td>9</td>\n",
       "      <td>9</td>\n",
       "    </tr>\n",
       "  </tbody>\n",
       "</table>\n",
       "</div>"
      ],
      "text/plain": [
       "      ConvertedComp  EdLevel  YearsCode  YearsCodePro\n",
       "5428       237000.0        5         20            13\n",
       "3462        55000.0        5         11             8\n",
       "7663       250000.0        5         38            32\n",
       "3841       240000.0        5         13             7\n",
       "5358        95000.0        5         19             4\n",
       "8189        50000.0        5          0             0\n",
       "5388       600000.0        5         20            16\n",
       "7587        60000.0        5         36             3\n",
       "728        120000.0        5          5             3\n",
       "2014       113000.0        6          8             5\n",
       "3899       129000.0        6         13             3\n",
       "6355       143000.0        5         24            24\n",
       "1475       315000.0        6          7             4\n",
       "5204       100000.0        5         18             9\n",
       "2572        46000.0        8          9             9"
      ]
     },
     "execution_count": 219,
     "metadata": {},
     "output_type": "execute_result"
    }
   ],
   "source": [
    "data.sample(15)"
   ]
  },
  {
   "cell_type": "code",
   "execution_count": 220,
   "metadata": {},
   "outputs": [],
   "source": [
    "# Creating the features matrix\n",
    "X = data.drop('ConvertedComp', axis=1)\n",
    "\n",
    "# Creating the labels\n",
    "y = data['ConvertedComp']"
   ]
  },
  {
   "cell_type": "code",
   "execution_count": 221,
   "metadata": {},
   "outputs": [],
   "source": [
    "np.random.seed(42)\n",
    "from sklearn.ensemble import RandomForestRegressor"
   ]
  },
  {
   "cell_type": "code",
   "execution_count": 222,
   "metadata": {},
   "outputs": [],
   "source": [
    "\n",
    "# splitting into training and testing data (80% training, 20% testing)\n",
    "X_train, X_test, y_train, y_test = train_test_split(X, y, test_size=0.2)"
   ]
  },
  {
   "cell_type": "code",
   "execution_count": 223,
   "metadata": {},
   "outputs": [
    {
     "data": {
      "text/plain": [
       "0.06450890253049724"
      ]
     },
     "execution_count": 223,
     "metadata": {},
     "output_type": "execute_result"
    }
   ],
   "source": [
    "# Fitting the model to the data\n",
    "model = RandomForestRegressor(n_estimators=130)\n",
    "model.fit(X_train, y_train);\n",
    "model.score(X_test, y_test)"
   ]
  },
  {
   "cell_type": "code",
   "execution_count": 224,
   "metadata": {},
   "outputs": [
    {
     "data": {
      "text/plain": [
       "array([52167.05586081])"
      ]
     },
     "execution_count": 224,
     "metadata": {},
     "output_type": "execute_result"
    }
   ],
   "source": [
    "app_test = model.predict([[1,1,1]])\n",
    "app_test"
   ]
  },
  {
   "cell_type": "code",
   "execution_count": 225,
   "metadata": {},
   "outputs": [],
   "source": [
    "# Making a prediction\n",
    "# y_label = regr.predict(np.array([0, 2, 3, 4]))"
   ]
  },
  {
   "cell_type": "code",
   "execution_count": 226,
   "metadata": {},
   "outputs": [
    {
     "data": {
      "text/plain": [
       "array([112180.05345134, 147707.96703297, 241649.78493728, ...,\n",
       "       109157.07076033,  87883.46923077,  99762.88119148])"
      ]
     },
     "execution_count": 226,
     "metadata": {},
     "output_type": "execute_result"
    }
   ],
   "source": [
    "y_preds = model.predict(X_test)\n",
    "y_preds"
   ]
  },
  {
   "cell_type": "code",
   "execution_count": 227,
   "metadata": {},
   "outputs": [
    {
     "data": {
      "text/plain": [
       "2684    150000.0\n",
       "6383    105000.0\n",
       "5891    180000.0\n",
       "6358    140000.0\n",
       "5374     72000.0\n",
       "          ...   \n",
       "88       85000.0\n",
       "734     120000.0\n",
       "196     150000.0\n",
       "7652     70000.0\n",
       "3002     54000.0\n",
       "Name: ConvertedComp, Length: 1670, dtype: float64"
      ]
     },
     "execution_count": 227,
     "metadata": {},
     "output_type": "execute_result"
    }
   ],
   "source": [
    "y_test"
   ]
  },
  {
   "cell_type": "code",
   "execution_count": 228,
   "metadata": {},
   "outputs": [
    {
     "data": {
      "text/plain": [
       "0.480003741472652"
      ]
     },
     "execution_count": 228,
     "metadata": {},
     "output_type": "execute_result"
    }
   ],
   "source": [
    "# Evaluating this model on the training data and the test data\n",
    "model.score(X_train, y_train)"
   ]
  },
  {
   "cell_type": "code",
   "execution_count": 229,
   "metadata": {},
   "outputs": [
    {
     "data": {
      "text/plain": [
       "0.06450890253049724"
      ]
     },
     "execution_count": 229,
     "metadata": {},
     "output_type": "execute_result"
    }
   ],
   "source": [
    "model.score(X_test, y_test)"
   ]
  },
  {
   "cell_type": "code",
   "execution_count": 230,
   "metadata": {},
   "outputs": [],
   "source": [
    "random_forest_regressor_results = '{:.2f}'.format(model.score(X_test, y_test) * 100)"
   ]
  },
  {
   "cell_type": "code",
   "execution_count": 231,
   "metadata": {},
   "outputs": [
    {
     "name": "stdout",
     "output_type": "stream",
     "text": [
      "Trying model with 10 estimators...\n",
      "Model accuracy on test set: 1.6084603066399583%\n",
      " \n",
      "Trying model with 20 estimators...\n",
      "Model accuracy on test set: 5.418700186716374%\n",
      " \n",
      "Trying model with 30 estimators...\n",
      "Model accuracy on test set: 4.175144600452652%\n",
      " \n",
      "Trying model with 40 estimators...\n",
      "Model accuracy on test set: 6.4760175070528785%\n",
      " \n",
      "Trying model with 50 estimators...\n",
      "Model accuracy on test set: 6.453339986167739%\n",
      " \n",
      "Trying model with 60 estimators...\n",
      "Model accuracy on test set: 5.58218181541863%\n",
      " \n",
      "Trying model with 70 estimators...\n",
      "Model accuracy on test set: 5.850301999750885%\n",
      " \n",
      "Trying model with 80 estimators...\n",
      "Model accuracy on test set: 5.595028883899744%\n",
      " \n",
      "Trying model with 90 estimators...\n",
      "Model accuracy on test set: 6.306602306365006%\n",
      " \n",
      "Trying model with 100 estimators...\n",
      "Model accuracy on test set: 7.112772327980165%\n",
      " \n",
      "Trying model with 110 estimators...\n",
      "Model accuracy on test set: 6.335937201862507%\n",
      " \n",
      "Trying model with 120 estimators...\n",
      "Model accuracy on test set: 6.179057155766943%\n",
      " \n",
      "Trying model with 130 estimators...\n",
      "Model accuracy on test set: 7.268834256766443%\n",
      " \n",
      "Trying model with 140 estimators...\n",
      "Model accuracy on test set: 5.700369836075692%\n",
      " \n",
      "Trying model with 150 estimators...\n",
      "Model accuracy on test set: 6.063357616559784%\n",
      " \n",
      "Trying model with 160 estimators...\n",
      "Model accuracy on test set: 6.780320227993908%\n",
      " \n",
      "Trying model with 170 estimators...\n",
      "Model accuracy on test set: 6.7362096647019865%\n",
      " \n",
      "Trying model with 180 estimators...\n",
      "Model accuracy on test set: 5.925431405355363%\n",
      " \n",
      "Trying model with 190 estimators...\n",
      "Model accuracy on test set: 6.508475497852395%\n",
      " \n"
     ]
    }
   ],
   "source": [
    "np.random.seed(42)\n",
    "for i in range(10, 200, 10):\n",
    "    print(f'Trying model with {i} estimators...')\n",
    "    model = RandomForestRegressor(n_estimators=i).fit(X_train, y_train)\n",
    "    print(f'Model accuracy on test set: {model.score(X_test, y_test) * 100}%')\n",
    "    print(' ')"
   ]
  },
  {
   "cell_type": "markdown",
   "metadata": {},
   "source": [
    "# Working with different estimators"
   ]
  },
  {
   "cell_type": "code",
   "execution_count": 232,
   "metadata": {},
   "outputs": [
    {
     "data": {
      "text/plain": [
       "17.65440771812412"
      ]
     },
     "execution_count": 232,
     "metadata": {},
     "output_type": "execute_result"
    }
   ],
   "source": [
    "# ml map shows to try lasso or elasticnet if few features are important\n",
    "from sklearn import linear_model\n",
    "\n",
    "np.random.seed(42)\n",
    "\n",
    "# Creating the features matrix\n",
    "X = data.drop('ConvertedComp', axis=1)\n",
    "\n",
    "# Creating the labels\n",
    "y = data['ConvertedComp']\n",
    "\n",
    "# splitting into training and testing data (80% training, 20% testing)\n",
    "X_train, X_test, y_train, y_test = train_test_split(X, y, test_size=0.2)\n",
    "\n",
    "# instantiate Lasso\n",
    "lassoreg = linear_model.Lasso(normalize=True)\n",
    "lassoreg.fit(X_train, y_train);\n",
    "\n",
    "lasso_results = '{:.2f}'.format(lassoreg.score(X_test, y_test) * 100)\n",
    "# Default calculates to a score of 17.644\n",
    "#normalize=True improved score to 17.654\n",
    "lassoreg.score(X_test, y_test) * 100"
   ]
  },
  {
   "cell_type": "code",
   "execution_count": 233,
   "metadata": {},
   "outputs": [
    {
     "data": {
      "text/plain": [
       "0.17655903549086893"
      ]
     },
     "execution_count": 233,
     "metadata": {},
     "output_type": "execute_result"
    }
   ],
   "source": [
    "from sklearn.linear_model import ElasticNet\n",
    "from sklearn.datasets import make_regression\n",
    "\n",
    "np.random.seed(42)\n",
    "\n",
    "# Creating the features matrix\n",
    "X = data.drop('ConvertedComp', axis=1)\n",
    "\n",
    "# Creating the labels\n",
    "y = data['ConvertedComp']\n",
    "\n",
    "# splitting into training and testing data (80% training, 20% testing)\n",
    "X_train, X_test, y_train, y_test = train_test_split(X, y, test_size=0.2)\n",
    "\n",
    "model2 = ElasticNet(alpha=0.2)\n",
    "model2.fit(X_train, y_train)\n",
    "\n",
    "elasticnet_results = '{:.2f}'.format(model2.score(X_test, y_test) * 100)\n",
    "# Default calculates to a score of 17.533\n",
    "# alpha of 0.2 increased score to 17.6559; max_iter, l1_ration no gains; fit_intercept, normalize decreased score\n",
    "model2.score(X_test, y_test)"
   ]
  },
  {
   "cell_type": "markdown",
   "metadata": {},
   "source": [
    "### ml map shows to try ridgeregression or SVR kernel linear if few features are important"
   ]
  },
  {
   "cell_type": "code",
   "execution_count": 234,
   "metadata": {},
   "outputs": [
    {
     "data": {
      "text/plain": [
       "0.1764423461756297"
      ]
     },
     "execution_count": 234,
     "metadata": {},
     "output_type": "execute_result"
    }
   ],
   "source": [
    "# RidgeRegression\n",
    "from sklearn.linear_model import Ridge\n",
    "\n",
    "np.random.seed(42)\n",
    "\n",
    "# Creating the features matrix\n",
    "X = data.drop('ConvertedComp', axis=1)\n",
    "\n",
    "# Creating the labels\n",
    "y = data['ConvertedComp']\n",
    "\n",
    "# splitting into training and testing data (80% training, 20% testing)\n",
    "X_train, X_test, y_train, y_test = train_test_split(X, y, test_size=0.2)\n",
    "\n",
    "# instantiate Ridge\n",
    "regr3 = Ridge()\n",
    "regr3.fit(X_train, y_train)\n",
    "\n",
    "\n",
    "ridge_results = '{:.2f}'.format(regr3.score(X_test, y_test) * 100)\n",
    "# Default calculates to a score of 17.644\n",
    "#normalize=True, fit_intercept=False decreased score, tol no impact\n",
    "regr3.score(X_test, y_test)"
   ]
  },
  {
   "cell_type": "code",
   "execution_count": 235,
   "metadata": {},
   "outputs": [
    {
     "data": {
      "text/plain": [
       "0.14014883948079182"
      ]
     },
     "execution_count": 235,
     "metadata": {},
     "output_type": "execute_result"
    }
   ],
   "source": [
    "# SVR kernel='linear'\n",
    "from sklearn import svm\n",
    "\n",
    "np.random.seed(42)\n",
    "\n",
    "# Creating the features matrix\n",
    "X = data.drop('ConvertedComp', axis=1)\n",
    "\n",
    "# Creating the labels\n",
    "y = data['ConvertedComp']\n",
    "\n",
    "# splitting into training and testing data (80% training, 20% testing)\n",
    "X_train, X_test, y_train, y_test = train_test_split(X, y, test_size=0.2)\n",
    "\n",
    "# instantiate Support Vector Machines (SVM)\n",
    "svr_linear = svm.SVR(kernel='linear')\n",
    "svr_linear.fit(X_train, y_train)\n",
    "\n",
    "svrkernellinear_results = '{:.2f}'.format(svr_linear.score(X_test, y_test) * 100)\n",
    "svr_linear.score(X_test, y_test)"
   ]
  },
  {
   "cell_type": "code",
   "execution_count": 236,
   "metadata": {},
   "outputs": [],
   "source": [
    "# ml map shows to try SVR kernel rbf or ensembleregressors if nothing else worked"
   ]
  },
  {
   "cell_type": "code",
   "execution_count": 237,
   "metadata": {},
   "outputs": [
    {
     "data": {
      "text/plain": [
       "-0.018659878833494847"
      ]
     },
     "execution_count": 237,
     "metadata": {},
     "output_type": "execute_result"
    }
   ],
   "source": [
    "# SVR kernel='rbf'\n",
    "from sklearn import svm\n",
    "\n",
    "np.random.seed(42)\n",
    "\n",
    "# Creating the features matrix\n",
    "X = data.drop('ConvertedComp', axis=1)\n",
    "\n",
    "# Creating the labels\n",
    "y = data['ConvertedComp']\n",
    "\n",
    "# splitting into training and testing data (80% training, 20% testing)\n",
    "X_train, X_test, y_train, y_test = train_test_split(X, y, test_size=0.2)\n",
    "\n",
    "# instantiate Random Forest Regressor\n",
    "svr_rbf = svm.SVR(kernel='rbf')\n",
    "svr_rbf.fit(X_train, y_train)\n",
    "\n",
    "svrkernelrbf_results = '{:.2f}'.format(svr_rbf.score(X_test, y_test) * 100)\n",
    "svr_rbf.score(X_test, y_test)"
   ]
  },
  {
   "cell_type": "code",
   "execution_count": 238,
   "metadata": {},
   "outputs": [
    {
     "data": {
      "text/plain": [
       "0.062172198735375606"
      ]
     },
     "execution_count": 238,
     "metadata": {},
     "output_type": "execute_result"
    }
   ],
   "source": [
    "# EnsembleRegressors\n",
    "from sklearn.ensemble import RandomForestRegressor\n",
    "\n",
    "np.random.seed(42)\n",
    "\n",
    "# Creating the features matrix\n",
    "X = data.drop('ConvertedComp', axis=1)\n",
    "\n",
    "# Creating the labels\n",
    "y = data['ConvertedComp']\n",
    "\n",
    "# splitting into training and testing data (80% training, 20% testing)\n",
    "X_train, X_test, y_train, y_test = train_test_split(X, y, test_size=0.2)\n",
    "\n",
    "# instantiate Random Forest Regressor\n",
    "rf = RandomForestRegressor()\n",
    "rf.fit(X_train, y_train)\n",
    "\n",
    "rf_results = '{:.2f}'.format(rf.score(X_test, y_test) * 100)\n",
    "rf.score(X_test, y_test)"
   ]
  },
  {
   "cell_type": "code",
   "execution_count": 239,
   "metadata": {},
   "outputs": [
    {
     "data": {
      "text/plain": [
       "0.176441938103564"
      ]
     },
     "execution_count": 239,
     "metadata": {},
     "output_type": "execute_result"
    }
   ],
   "source": [
    "from sklearn.linear_model import LinearRegression\n",
    "\n",
    "np.random.seed(42)\n",
    "\n",
    "# Creating the features matrix\n",
    "X = data.drop('ConvertedComp', axis=1)\n",
    "\n",
    "# Creating the labels\n",
    "y = data['ConvertedComp']\n",
    "\n",
    "# splitting into training and testing data (80% training, 20% testing)\n",
    "X_train, X_test, y_train, y_test = train_test_split(X, y, test_size=0.2)\n",
    "\n",
    "# instantiate Random Forest Regressor\n",
    "lreg = LinearRegression()\n",
    "lreg.fit(X_train, y_train)\n",
    "\n",
    "lreg_results = '{:.2f}'.format(lreg.score(X_test, y_test) * 100)\n",
    "# Default calculates to a score of 17.644\n",
    "# fit_intercept decreased score, normalize had no impact\n",
    "lreg.score(X_test, y_test)"
   ]
  },
  {
   "cell_type": "code",
   "execution_count": 240,
   "metadata": {},
   "outputs": [],
   "source": [
    "# trying svc linear classification\n",
    "from sklearn import svm\n",
    "\n",
    "np.random.seed(42)\n",
    "\n",
    "# Creating the features matrix\n",
    "X = data.drop('ConvertedComp', axis=1)\n",
    "\n",
    "# Creating the labels\n",
    "y = data['ConvertedComp']\n",
    "\n",
    "# splitting into training and testing data (80% training, 20% testing)\n",
    "X_train, X_test, y_train, y_test = train_test_split(X, y, test_size=0.2)\n",
    "\n",
    "# instantiate Random Forest Regressor\n",
    "svcc = svm.SVC()\n",
    "svcc.fit(X_train, y_train)\n",
    "\n",
    "svcc.score(X_test, y_test)\n",
    "svc_linear_classification_results = '{:.2f}'.format(svcc.score(X_test, y_test) * 100)"
   ]
  },
  {
   "cell_type": "code",
   "execution_count": 241,
   "metadata": {},
   "outputs": [
    {
     "data": {
      "text/plain": [
       "array([120000.])"
      ]
     },
     "execution_count": 241,
     "metadata": {},
     "output_type": "execute_result"
    }
   ],
   "source": [
    "svcc.predict([[4, 10, 10]])"
   ]
  },
  {
   "cell_type": "code",
   "execution_count": 242,
   "metadata": {},
   "outputs": [
    {
     "data": {
      "text/plain": [
       "array([75000.])"
      ]
     },
     "execution_count": 242,
     "metadata": {},
     "output_type": "execute_result"
    }
   ],
   "source": [
    "svcc.predict([[1, 3, 3]])"
   ]
  },
  {
   "cell_type": "markdown",
   "metadata": {},
   "source": [
    "# Ranked results of the above estimators"
   ]
  },
  {
   "cell_type": "code",
   "execution_count": 243,
   "metadata": {},
   "outputs": [
    {
     "name": "stdout",
     "output_type": "stream",
     "text": [
      "Ranked Results based on score of test set:\n",
      "Elastic Net: 17.66%\n",
      "Lasso: 17.65%\n",
      "Ridge: 17.64%\n",
      "Linear Regression: 17.64%\n",
      "SVR Linear: 14.01%\n",
      "SVC Linear Classification: 4.25%\n",
      "Random Forest Regressor: 6.45%\n",
      "Random Forest Regressor run 2: 6.22%\n",
      "SVR Kernel \"rbf\": -1.87%\n"
     ]
    }
   ],
   "source": [
    "print('Ranked Results based on score of test set:')\n",
    "print(f'Elastic Net: {elasticnet_results}%')\n",
    "print(f'Lasso: {lasso_results}%')\n",
    "print(f'Ridge: {ridge_results}%')\n",
    "print(f'Linear Regression: {lreg_results}%')\n",
    "print(f'SVR Linear: {svrkernellinear_results}%')\n",
    "print(f'SVC Linear Classification: {svc_linear_classification_results}%')\n",
    "print(f'Random Forest Regressor: {random_forest_regressor_results}%')\n",
    "print(f'Random Forest Regressor run 2: {rf_results}%')\n",
    "\n",
    "print(f'SVR Kernel \"rbf\": {svrkernelrbf_results}%')\n",
    "\n"
   ]
  },
  {
   "cell_type": "code",
   "execution_count": 244,
   "metadata": {},
   "outputs": [],
   "source": [
    "import pickle\n",
    "\n",
    "pickle.dump(model2, open('model2.pkl', 'wb'))"
   ]
  },
  {
   "cell_type": "code",
   "execution_count": 245,
   "metadata": {},
   "outputs": [
    {
     "data": {
      "text/plain": [
       "0.17655903549086893"
      ]
     },
     "execution_count": 245,
     "metadata": {},
     "output_type": "execute_result"
    }
   ],
   "source": [
    "loaded_model = pickle.load(open('model2.pkl', 'rb'))\n",
    "loaded_model.score(X_test, y_test)"
   ]
  },
  {
   "cell_type": "code",
   "execution_count": 246,
   "metadata": {},
   "outputs": [
    {
     "data": {
      "text/plain": [
       "array([50450.69085167])"
      ]
     },
     "execution_count": 246,
     "metadata": {},
     "output_type": "execute_result"
    }
   ],
   "source": [
    "model2.predict([[0, 0, 0]])"
   ]
  },
  {
   "cell_type": "code",
   "execution_count": null,
   "metadata": {},
   "outputs": [],
   "source": []
  }
 ],
 "metadata": {
  "kernelspec": {
   "display_name": "Python 3",
   "language": "python",
   "name": "python3"
  },
  "language_info": {
   "codemirror_mode": {
    "name": "ipython",
    "version": 3
   },
   "file_extension": ".py",
   "mimetype": "text/x-python",
   "name": "python",
   "nbconvert_exporter": "python",
   "pygments_lexer": "ipython3",
   "version": "3.8.5"
  }
 },
 "nbformat": 4,
 "nbformat_minor": 4
}
